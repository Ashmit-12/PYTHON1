{
  "nbformat": 4,
  "nbformat_minor": 0,
  "metadata": {
    "colab": {
      "name": "c109",
      "provenance": [],
      "authorship_tag": "ABX9TyMe0w36xepo+Q9HemxhrIpY",
      "include_colab_link": true
    },
    "kernelspec": {
      "name": "python3",
      "display_name": "Python 3"
    },
    "language_info": {
      "name": "python"
    }
  },
  "cells": [
    {
      "cell_type": "markdown",
      "metadata": {
        "id": "view-in-github",
        "colab_type": "text"
      },
      "source": [
        "<a href=\"https://colab.research.google.com/github/Ashmit-12/PYTHON1/blob/main/c109.ipynb\" target=\"_parent\"><img src=\"https://colab.research.google.com/assets/colab-badge.svg\" alt=\"Open In Colab\"/></a>"
      ]
    },
    {
      "cell_type": "code",
      "execution_count": 2,
      "metadata": {
        "colab": {
          "base_uri": "https://localhost:8080/"
        },
        "id": "7rsRygbhPF-9",
        "outputId": "dd4188b8-014a-4f2a-a70b-c99286710175"
      },
      "outputs": [
        {
          "output_type": "stream",
          "name": "stdout",
          "text": [
            "the percentage of height of the data in 1st standard deviation is 68.356\n",
            "the percentage of height of the data in 2nd standard deviation is 95.46\n",
            "the percentage of height of the data in 3rd standard deviation is 99.796\n",
            "the percentage of weight of the data in 1st standard deviation is 68.52\n",
            "the percentage of weight of the data in 2nd standard deviation is 95.284\n",
            "the percentage of weight of the data in 3rd standard deviation is 99.724\n"
          ]
        }
      ],
      "source": [
        "import pandas as pd\n",
        "import statistics\n",
        "import plotly.figure_factory as ff\n",
        "\n",
        "x=pd.read_csv(\"/content/c109 data.csv\")\n",
        "height_list=x[\"Height(Inches)\"].to_list()\n",
        "weight_list=x[\"Weight(Pounds)\"].to_list()\n",
        "\n",
        "height_mean=statistics.mean(height_list)\n",
        "weight_mean=statistics.mean(weight_list)\n",
        "\n",
        "height_standard_deviation=statistics.stdev(height_list)\n",
        "weight_standard_deviation=statistics.stdev(weight_list)\n",
        "\n",
        "height_1st_start,height_1st_end= height_mean-height_standard_deviation , height_mean+height_standard_deviation\n",
        "height_2nd_start,height_2nd_end= height_mean-(2*height_standard_deviation) , height_mean+(2*height_standard_deviation)\n",
        "height_3rd_start,height_3rd_end= height_mean-(3*height_standard_deviation) , height_mean+(3*height_standard_deviation)\n",
        "\n",
        "weight_1st_start,weight_1st_end= weight_mean-weight_standard_deviation , weight_mean+weight_standard_deviation\n",
        "weight_2nd_start,weight_2nd_end= weight_mean-(2*weight_standard_deviation) , weight_mean+(2*weight_standard_deviation)\n",
        "weight_3rd_start,weight_3rd_end= weight_mean-(3*weight_standard_deviation) , weight_mean+(3*weight_standard_deviation)\n",
        "\n",
        "height_in_1st_deviation=[result for result in height_list if result > height_1st_start and result < height_1st_end]\n",
        "height_in_2nd_deviation=[result for result in height_list if result > height_2nd_start and result < height_2nd_end]\n",
        "height_in_3rd_deviation=[result for result in height_list if result > height_3rd_start and result < height_3rd_end]\n",
        "\n",
        "weight_in_1st_deviation=[result for result in weight_list if result > weight_1st_start and result < weight_1st_end]\n",
        "weight_in_2nd_deviation=[result for result in weight_list if result > weight_2nd_start and result < weight_2nd_end]\n",
        "weight_in_3rd_deviation=[result for result in weight_list if result > weight_3rd_start and result < weight_3rd_end]\n",
        "\n",
        "print(\"the percentage of height of the data in 1st standard deviation is \"+str(len(height_in_1st_deviation)*100/len(height_list)))\n",
        "print(\"the percentage of height of the data in 2nd standard deviation is \"+str(len(height_in_2nd_deviation)*100/len(height_list)))\n",
        "print(\"the percentage of height of the data in 3rd standard deviation is \"+str(len(height_in_3rd_deviation)*100/len(height_list)))\n",
        "\n",
        "print(\"the percentage of weight of the data in 1st standard deviation is \"+str(len(weight_in_1st_deviation)*100/len(weight_list)))\n",
        "print(\"the percentage of weight of the data in 2nd standard deviation is \"+str(len(weight_in_2nd_deviation)*100/len(weight_list)))\n",
        "print(\"the percentage of weight of the data in 3rd standard deviation is \"+str(len(weight_in_3rd_deviation)*100/len(weight_list)))"
      ]
    }
  ]
}