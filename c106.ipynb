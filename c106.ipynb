{
  "nbformat": 4,
  "nbformat_minor": 0,
  "metadata": {
    "colab": {
      "name": "c106",
      "provenance": [],
      "collapsed_sections": [],
      "authorship_tag": "ABX9TyNgNjtwAwk1c039/xOJ8Njm",
      "include_colab_link": true
    },
    "kernelspec": {
      "name": "python3",
      "display_name": "Python 3"
    },
    "language_info": {
      "name": "python"
    }
  },
  "cells": [
    {
      "cell_type": "markdown",
      "metadata": {
        "id": "view-in-github",
        "colab_type": "text"
      },
      "source": [
        "<a href=\"https://colab.research.google.com/github/Ashmit-12/PYTHON1/blob/main/c106.ipynb\" target=\"_parent\"><img src=\"https://colab.research.google.com/assets/colab-badge.svg\" alt=\"Open In Colab\"/></a>"
      ]
    },
    {
      "cell_type": "code",
      "execution_count": null,
      "metadata": {
        "colab": {
          "base_uri": "https://localhost:8080/"
        },
        "id": "jeOadLiAF-W2",
        "outputId": "b0ca947b-eb9b-46ee-bd56-fd7398687a85"
      },
      "outputs": [
        {
          "output_type": "stream",
          "name": "stdout",
          "text": [
            "0.86288947614385\n"
          ]
        }
      ],
      "source": [
        "import csv\n",
        "import numpy as np\n",
        "\n",
        "def getdatasource(x):\n",
        "  percentage=[]\n",
        "  no_of_days_present=[]\n",
        "\n",
        "  with open(x) as f:\n",
        "    reader=csv.DictReader(f)\n",
        "    for i in reader:\n",
        "      percentage.append(float(i[\"Marks In Percentage\"]))\n",
        "      no_of_days_present.append(float(i[\"Days Present\"]))\n",
        "\n",
        "  return{\"x\":percentage,\"y\":no_of_days_present}\n",
        "\n",
        "def findcorrealtion(y):\n",
        "  co=np.corrcoef(y[\"x\"],y[\"y\"])\n",
        "  print(co[0,1])\n",
        "\n",
        "h=getdatasource(\"/content/Student Marks vs Days Present.csv\")\n",
        "findcorrealtion(h)"
      ]
    },
    {
      "cell_type": "code",
      "source": [
        "import csv\n",
        "import numpy as np\n",
        "\n",
        "def getdatasource(x):\n",
        "  quantity_in_ml=[]\n",
        "  sleep_in_hrs=[]\n",
        "\n",
        "  with open(x) as f:\n",
        "    reader=csv.DictReader(f)\n",
        "    for i in reader:\n",
        "      quantity_in_ml.append(float(i[\"Coffee in ml\"]))\n",
        "      sleep_in_hrs.append(float(i[\"sleep in hours\"]))\n",
        "\n",
        "  return{\"x\":quantity_in_ml,\"y\":sleep_in_hrs}\n",
        "\n",
        "def findcorrealtion(y):\n",
        "  co=np.corrcoef(y[\"x\"],y[\"y\"])\n",
        "  print(co[0,1])\n",
        "\n",
        "h=getdatasource(\"/content/data106.csv\")\n",
        "findcorrealtion(h)"
      ],
      "metadata": {
        "colab": {
          "base_uri": "https://localhost:8080/"
        },
        "id": "Fl_Khy04UZzt",
        "outputId": "75f8c914-f61c-40ef-a94e-819b9a4f8837"
      },
      "execution_count": 1,
      "outputs": [
        {
          "output_type": "stream",
          "name": "stdout",
          "text": [
            "-0.9630614686000525\n"
          ]
        }
      ]
    }
  ]
}