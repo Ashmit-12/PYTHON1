{
  "nbformat": 4,
  "nbformat_minor": 0,
  "metadata": {
    "colab": {
      "name": "project c104",
      "provenance": [],
      "collapsed_sections": [],
      "authorship_tag": "ABX9TyOem1q1eSa/1X1d0QPBoAq7",
      "include_colab_link": true
    },
    "kernelspec": {
      "name": "python3",
      "display_name": "Python 3"
    },
    "language_info": {
      "name": "python"
    }
  },
  "cells": [
    {
      "cell_type": "markdown",
      "metadata": {
        "id": "view-in-github",
        "colab_type": "text"
      },
      "source": [
        "<a href=\"https://colab.research.google.com/github/Ashmit-12/PYTHON1/blob/main/project_c104.ipynb\" target=\"_parent\"><img src=\"https://colab.research.google.com/assets/colab-badge.svg\" alt=\"Open In Colab\"/></a>"
      ]
    },
    {
      "cell_type": "code",
      "execution_count": 1,
      "metadata": {
        "colab": {
          "base_uri": "https://localhost:8080/"
        },
        "id": "xuFdr9VhQ9N5",
        "outputId": "11676c4c-ea89-4e18-a5e1-b0a87304edf1"
      },
      "outputs": [
        {
          "output_type": "stream",
          "name": "stdout",
          "text": [
            "67.99311359679999\n",
            "127.07942116080001\n"
          ]
        }
      ],
      "source": [
        "import pandas as pd\n",
        "from statistics import mean\n",
        "\n",
        "v=pd.read_csv(\"/content/SOCR-HeightWeight.csv\")\n",
        "f=v[\"Height(Inches)\"].mean()\n",
        "c=v[\"Weight(Pounds)\"].mean()\n",
        "print(f)\n",
        "print(c)"
      ]
    },
    {
      "cell_type": "code",
      "source": [
        "import pandas as pd\n",
        "\n",
        "v=pd.read_csv(\"/content/SOCR-HeightWeight.csv\")\n",
        "f=v[\"Height(Inches)\"].mode()[0]\n",
        "c=v[\"Weight(Pounds)\"].mode()[0]\n",
        "print(f)\n",
        "print(c)"
      ],
      "metadata": {
        "colab": {
          "base_uri": "https://localhost:8080/"
        },
        "id": "WSAuJZ4wR3ld",
        "outputId": "85f03a7e-c47c-495b-96e5-c4a419cc849d"
      },
      "execution_count": 2,
      "outputs": [
        {
          "output_type": "stream",
          "name": "stdout",
          "text": [
            "65.65796\n",
            "124.7975\n"
          ]
        }
      ]
    },
    {
      "cell_type": "code",
      "source": [
        "import pandas as pd\n",
        "\n",
        "v=pd.read_csv(\"/content/SOCR-HeightWeight.csv\")\n",
        "f=v[\"Height(Inches)\"].median()\n",
        "c=v[\"Weight(Pounds)\"].median()\n",
        "print(f)\n",
        "print(c)"
      ],
      "metadata": {
        "colab": {
          "base_uri": "https://localhost:8080/"
        },
        "id": "gF01B7w5SEGI",
        "outputId": "035dd512-b555-4d44-f5c2-9740eaae7460"
      },
      "execution_count": 3,
      "outputs": [
        {
          "output_type": "stream",
          "name": "stdout",
          "text": [
            "67.9957\n",
            "127.15775\n"
          ]
        }
      ]
    }
  ]
}